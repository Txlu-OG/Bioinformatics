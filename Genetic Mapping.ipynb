{
 "cells": [
  {
   "cell_type": "markdown",
   "id": "fd4e9331",
   "metadata": {},
   "source": [
    "A program designed to map genes using the genetic code. \n",
    "This program takes a DNA sequence as input, transcribes it into mRNA, and then translates the mRNA into a protein sequence based on the genetic code. Additionally, it identifies specific breast cancer related genes based on their protein sequences in the example."
   ]
  },
  {
   "cell_type": "code",
   "execution_count": 65,
   "id": "028102ac",
   "metadata": {},
   "outputs": [],
   "source": [
    "# Genetic code dictionary\n",
    "# This dictionary maps RNA codons to their corresponding amino acids, essential for the translation process.\n",
    "\n",
    "genetic_code = {\n",
    "    'AUG': 'Methionine', 'UUU': 'Phenylalanine', 'UUC': 'Phenylalanine', \n",
    "    'UUA': 'Leucine', 'UUG': 'Leucine', 'UCU': 'Serine', 'UCC': 'Serine', \n",
    "    'UCA': 'Serine', 'UCG': 'Serine', 'UAU': 'Tyrosine', 'UAC': 'Tyrosine', \n",
    "    'UGU': 'Cysteine', 'UGC': 'Cysteine', 'UGG': 'Tryptophan', \n",
    "    'CUU': 'Leucine', 'CUC': 'Leucine', 'CUA': 'Leucine', 'CUG': 'Leucine', \n",
    "    'CCU': 'Proline', 'CCC': 'Proline', 'CCA': 'Proline', 'CCG': 'Proline', \n",
    "    'CAU': 'Histidine', 'CAC': 'Histidine', 'CAA': 'Glutamine', \n",
    "    'CAG': 'Glutamine', 'CGU': 'Arginine', 'CGC': 'Arginine', \n",
    "    'CGA': 'Arginine', 'CGG': 'Arginine', 'AUU': 'Isoleucine', \n",
    "    'AUC': 'Isoleucine', 'AUA': 'Isoleucine', 'ACU': 'Threonine', \n",
    "    'ACC': 'Threonine', 'ACA': 'Threonine', 'ACG': 'Threonine', \n",
    "    'AAU': 'Asparagine', 'AAC': 'Asparagine', 'AAA': 'Lysine', \n",
    "    'AAG': 'Lysine', 'AGU': 'Serine', 'AGC': 'Serine', 'AGA': 'Arginine', \n",
    "    'AGG': 'Arginine', 'GUU': 'Valine', 'GUC': 'Valine', 'GUA': 'Valine', \n",
    "    'GUG': 'Valine', 'GCU': 'Alanine', 'GCC': 'Alanine', 'GCA': 'Alanine', \n",
    "    'GCG': 'Alanine', 'GAU': 'Aspartic Acid', 'GAC': 'Aspartic Acid', \n",
    "    'GAA': 'Glutamic Acid', 'GAG': 'Glutamic Acid', 'GGU': 'Glycine', \n",
    "    'GGC': 'Glycine', 'GGA': 'Glycine', 'GGG': 'Glycine', \n",
    "    'UAA': 'Stop', 'UAG': 'Stop', 'UGA': 'Stop'\n",
    "}"
   ]
  },
  {
   "cell_type": "code",
   "execution_count": 66,
   "id": "8ddbd32f",
   "metadata": {},
   "outputs": [],
   "source": [
    "# Error handling for invalid DNA sequences\n",
    "# This function ensures the validity of a DNA sequence by checking if it contains only the nucleotides A, T, C, and G.\n",
    "\n",
    "def validate_dna_sequence(dna_sequence):\n",
    "    valid_nucleotides = {'A', 'T', 'C', 'G'}\n",
    "    return all(nucleotide in valid_nucleotides for nucleotide in dna_sequence.upper())\n",
    "   "
   ]
  },
  {
   "cell_type": "code",
   "execution_count": 67,
   "id": "5745e23d",
   "metadata": {},
   "outputs": [],
   "source": [
    "# Transcription (DNA to mRNA)- converting a DNA sequence into an mRNA sequence by replacing thymine with uracil.\n",
    "\n",
    "def transcribe(dna_sequence):\n",
    "    if not validate_dna_sequence(dna_sequence):\n",
    "        raise ValueError(\"Invalid DNA sequence. Please enter a sequence containing only A, T, C, G.\")\n",
    "    return dna_sequence.replace('T', 'U')"
   ]
  },
  {
   "cell_type": "code",
   "execution_count": 68,
   "id": "20acfb51",
   "metadata": {},
   "outputs": [],
   "source": [
    "# Translation (mRNA to protein) - converting an mRNA sequence into a protein sequence.\n",
    "# It reads the mRNA in groups of three nucleotides (codons) and translates each codon into the corresponding amino acid using the genetic_code dictionary. \n",
    "# The translation stops if a stop codon is encountered.\n",
    "\n",
    "def translate(mrna_sequence):\n",
    "    protein = []\n",
    "    for i in range(0, len(mrna_sequence), 3):\n",
    "        codon = mrna_sequence[i:i+3]\n",
    "        amino_acid = genetic_code.get(codon)\n",
    "        if amino_acid == 'Stop':\n",
    "            break\n",
    "        if amino_acid:\n",
    "            protein.append(amino_acid)\n",
    "    return protein"
   ]
  },
  {
   "cell_type": "code",
   "execution_count": 69,
   "id": "d36d9c81",
   "metadata": {},
   "outputs": [],
   "source": [
    "# Genetic Mapping (DNA sequence to protein)- combines transcription and translation to map a DNA sequence to a protein sequence.\n",
    "\n",
    "def map_genes(dna_sequence):\n",
    "    mrna_sequence = transcribe(dna_sequence)\n",
    "    protein_sequence = translate(mrna_sequence)\n",
    "    return protein_sequence"
   ]
  },
  {
   "cell_type": "code",
   "execution_count": 70,
   "id": "c5350e33",
   "metadata": {},
   "outputs": [
    {
     "name": "stdout",
     "output_type": "stream",
     "text": [
      "Enter DNA sequence: ATGGATTTTGGTCAGTCAACAAAGAAAGCTGAGAACTTGGACACTAGGGTCTGACTGGAAGAAATCTGGA\n",
      "Protein Sequence:  Methionine - Aspartic Acid - Phenylalanine - Glycine - Glutamine - Serine - Threonine - Lysine - Lysine - Alanine - Glutamic Acid - Asparagine - Leucine - Aspartic Acid - Threonine - Arginine - Valine\n"
     ]
    }
   ],
   "source": [
    "# Genetic Mapping program\n",
    "# Takes a DNA sequence as input from scientist, maps it to a protein sequence, and prints the protein sequence.\n",
    "\n",
    "if __name__ == \"__main__\":\n",
    "    # Example DNA sequence\n",
    "    dna_sequence = input(\"Enter DNA sequence: \").upper()\n",
    "\n",
    "    # Map genes\n",
    "    protein_sequence = map_genes(dna_sequence)\n",
    "    \n",
    "    # Output the results\n",
    "    print(\"Protein Sequence: \", ' - '.join(protein_sequence))"
   ]
  },
  {
   "cell_type": "code",
   "execution_count": 73,
   "id": "79261794",
   "metadata": {},
   "outputs": [
    {
     "name": "stdout",
     "output_type": "stream",
     "text": [
      "Enter DNA sequence: vvv\n",
      "Invalid DNA sequence. Please enter a sequence containing only A, T, C, G.\n"
     ]
    }
   ],
   "source": [
    "# For a more practical example using Breast cancer-related genes\n",
    "# This includes another dictionary of breast cancer-related genes with their DNA sequences and uses reverse mapping to identify the gene based on the protein sequence.\n",
    "# This program is designed to map genes using the genetic code. \n",
    "# It takes a DNA sequence as input, transcribes it into mRNA, and then translates the mRNA into a protein sequence based on the genetic code. \n",
    "# Additionally, it can identify specific breast cancer-related genes based on their protein sequences.\n",
    "\n",
    "# This dictionary contains example DNA sequences for genes commonly associated with breast cancer.\n",
    "breast_cancer_genes = {\n",
    "    'BRCA1': 'ATGGATTTTGGTCAGTCAACAAAGAAAGCTGAGAACTTGGACACTAGGGTCTGACTGGAAGAAATCTGGA',\n",
    "    'BRCA2': 'ATGGATTTGGAGGTTTTTGTTTGCTGCTGCTGCTGCTGAGCTTGCTGAAACTGGAAGGAAACAGG',\n",
    "    'TP53': 'ATGGAGGAGCCGCAGTCAGATCCTAGCGTCGAGCCCCTGCTCGGAACATCTCGAAGTGTTTGTGC'\n",
    "}\n",
    "\n",
    "# Reverse mapping from protein sequences to gene names\n",
    "# a reverse mapping dictionary that maps protein sequences (as tuples) back to their corresponding gene names. \n",
    "# This allows for the identification of genes based on their protein sequences.\n",
    "\n",
    "protein_to_gene = {tuple(map_genes(v)): k for k, v in breast_cancer_genes.items()}\n",
    "    \n",
    "def main():\n",
    "    # Input DNA sequence\n",
    "    dna_sequence = input(\"Enter DNA sequence: \").upper()\n",
    "    \n",
    "    # Validate DNA sequence\n",
    "    if not validate_dna_sequence(dna_sequence):\n",
    "        print(\"Invalid DNA sequence. Please enter a sequence containing only A, T, C, G.\")\n",
    "        return\n",
    "    \n",
    "    # Map genes\n",
    "    protein_sequence = map_genes(dna_sequence)\n",
    "    \n",
    "    # Identify gene\n",
    "    gene_name = protein_to_gene.get(tuple(protein_sequence), \"Unknown gene\")\n",
    "    \n",
    "    # Output the gene name and protein sequence\n",
    "    print(f\"Protein Sequence: {' - '.join(protein_sequence)}\")\n",
    "    if gene_name != \"Unknown gene\":\n",
    "        print(f\"Identified Gene: {gene_name}\")\n",
    "    else:\n",
    "        print(\"Non Breast Cancer Gene Found.\")\n",
    "        \n",
    "    # Gene identification and mapping program\n",
    "if __name__ == \"__main__\":\n",
    "    main()\n",
    "        \n"
   ]
  },
  {
   "cell_type": "code",
   "execution_count": null,
   "id": "d388806b",
   "metadata": {},
   "outputs": [],
   "source": []
  }
 ],
 "metadata": {
  "kernelspec": {
   "display_name": "Python 3 (ipykernel)",
   "language": "python",
   "name": "python3"
  },
  "language_info": {
   "codemirror_mode": {
    "name": "ipython",
    "version": 3
   },
   "file_extension": ".py",
   "mimetype": "text/x-python",
   "name": "python",
   "nbconvert_exporter": "python",
   "pygments_lexer": "ipython3",
   "version": "3.11.4"
  }
 },
 "nbformat": 4,
 "nbformat_minor": 5
}
