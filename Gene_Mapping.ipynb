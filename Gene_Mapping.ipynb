{
 "cells": [
  {
   "cell_type": "code",
   "execution_count": 38,
   "id": "b43eb1f8",
   "metadata": {},
   "outputs": [],
   "source": [
    "# Genetic code dictionary\n",
    "# This dictionary maps RNA codons to their corresponding amino acids\n",
    "# This is essential for the translation process.\n",
    "\n",
    "genetic_code = {\n",
    "    'AUG': 'Methionine', 'UUU': 'Phenylalanine', 'UUC': 'Phenylalanine', \n",
    "    'UUA': 'Leucine', 'UUG': 'Leucine', 'UCU': 'Serine', 'UCC': 'Serine', \n",
    "    'UCA': 'Serine', 'UCG': 'Serine', 'UAU': 'Tyrosine', 'UAC': 'Tyrosine', \n",
    "    'UGU': 'Cysteine', 'UGC': 'Cysteine', 'UGG': 'Tryptophan', \n",
    "    'CUU': 'Leucine', 'CUC': 'Leucine', 'CUA': 'Leucine', 'CUG': 'Leucine', \n",
    "    'CCU': 'Proline', 'CCC': 'Proline', 'CCA': 'Proline', 'CCG': 'Proline', \n",
    "    'CAU': 'Histidine', 'CAC': 'Histidine', 'CAA': 'Glutamine', \n",
    "    'CAG': 'Glutamine', 'CGU': 'Arginine', 'CGC': 'Arginine', \n",
    "    'CGA': 'Arginine', 'CGG': 'Arginine', 'AUU': 'Isoleucine', \n",
    "    'AUC': 'Isoleucine', 'AUA': 'Isoleucine', 'ACU': 'Threonine', \n",
    "    'ACC': 'Threonine', 'ACA': 'Threonine', 'ACG': 'Threonine', \n",
    "    'AAU': 'Asparagine', 'AAC': 'Asparagine', 'AAA': 'Lysine', \n",
    "    'AAG': 'Lysine', 'AGU': 'Serine', 'AGC': 'Serine', 'AGA': 'Arginine', \n",
    "    'AGG': 'Arginine', 'GUU': 'Valine', 'GUC': 'Valine', 'GUA': 'Valine', \n",
    "    'GUG': 'Valine', 'GCU': 'Alanine', 'GCC': 'Alanine', 'GCA': 'Alanine', \n",
    "    'GCG': 'Alanine', 'GAU': 'Aspartic Acid', 'GAC': 'Aspartic Acid', \n",
    "    'GAA': 'Glutamic Acid', 'GAG': 'Glutamic Acid', 'GGU': 'Glycine', \n",
    "    'GGC': 'Glycine', 'GGA': 'Glycine', 'GGG': 'Glycine', \n",
    "    'UAA': 'Stop', 'UAG': 'Stop', 'UGA': 'Stop'\n",
    "}\n",
    "\n",
    "STOP_CODONS = {'UAA', 'UAG', 'UGA'}"
   ]
  },
  {
   "cell_type": "code",
   "execution_count": 39,
   "id": "bf62e752",
   "metadata": {},
   "outputs": [],
   "source": [
    "# DNA sequence validation function\n",
    "def validate_dna_sequence(dna_sequence):\n",
    "    \"\"\"\n",
    "    Validates the DNA sequence to ensure it contains only the nucleotides A, T, C, and G.\n",
    "    \"\"\"\n",
    "    valid_nucleotides = {'A', 'T', 'C', 'G'}\n",
    "    if not dna_sequence:\n",
    "        return False, \"Input cannot be empty.\" # Return error if the sequence is empty\n",
    "    for nucleotide in dna_sequence.upper():\n",
    "        if nucleotide not in valid_nucleotides:\n",
    "            return False, f\"Invalid character found: {nucleotide}\"\n",
    "    return True, None"
   ]
  },
  {
   "cell_type": "code",
   "execution_count": 40,
   "id": "8f9cb65f",
   "metadata": {},
   "outputs": [],
   "source": [
    "# Transcription function (DNA to mRNA)\n",
    "def transcribe(dna_sequence):\n",
    "    \"\"\"\n",
    "    Converts a DNA sequence into an mRNA sequence by replacing thymine (T) with uracil (U).\n",
    "    \"\"\"\n",
    "    return dna_sequence.upper().replace('T', 'U') # Replace T with U to get the mRNA sequence"
   ]
  },
  {
   "cell_type": "code",
   "execution_count": 41,
   "id": "7a47706d",
   "metadata": {},
   "outputs": [],
   "source": [
    "# Translation function (mRNA to protein)\n",
    "def translate(mrna_sequence):\n",
    "    \"\"\"\n",
    "    Translates an mRNA sequence into a protein sequence.\n",
    "    Stops translation if a stop codon is encountered.\n",
    "    \"\"\"\n",
    "    protein = [] # Initialize an empty list for the protein sequence\n",
    "    for i in range(0, len(mrna_sequence), 3): # Loop through the mRNA sequence in steps of 3 (codons)\n",
    "        codon = mrna_sequence[i:i+3] # Extract the codon\n",
    "        if len(codon) < 3:\n",
    "            break # Stop if the codon is incomplete\n",
    "        amino_acid = genetic_code.get(codon) # Get the amino acid for the codon\n",
    "        if amino_acid == 'Stop':\n",
    "            break # Stop translation at stop codons\n",
    "        if amino_acid: \n",
    "            protein.append(amino_acid) # Add the amino acid to the protein sequence\n",
    "    return protein # Return the complete protein sequence"
   ]
  },
  {
   "cell_type": "code",
   "execution_count": 42,
   "id": "28dfafa4",
   "metadata": {},
   "outputs": [],
   "source": [
    "# Gene Mapping function (DNA to Protein)\n",
    "def map_genes(dna_sequence):\n",
    "    \"\"\"\n",
    "    Combines transcription and translation to map a DNA sequence to a protein sequence.\n",
    "    \"\"\"\n",
    "    mrna_sequence = transcribe(dna_sequence) # Transcribe DNA to mRNA\n",
    "    return translate(mrna_sequence) # Translate mRNA to a protein sequence"
   ]
  },
  {
   "cell_type": "code",
   "execution_count": 43,
   "id": "77ba524e",
   "metadata": {},
   "outputs": [],
   "source": [
    "# Gene Identification function\n",
    "def identify_gene(protein_sequence, protein_to_gene):\n",
    "    \"\"\"\n",
    "    Identifies the gene based on the provided protein sequence.\n",
    "    \"\"\"\n",
    "    return protein_to_gene.get(tuple(protein_sequence), \"Unknown gene\") # Match protein sequence to known genes"
   ]
  },
  {
   "cell_type": "code",
   "execution_count": 47,
   "id": "7b43af8f",
   "metadata": {
    "scrolled": true
   },
   "outputs": [
    {
     "name": "stdout",
     "output_type": "stream",
     "text": [
      "Enter DNA sequence (A, T, C, G only): AAAAATTTTTTCCCCCCCGGGGGGGCCCCGGGGTTTTAAAUAAUAGUGAGAGAGAGAGAGAGAGAGAGAGAGATATATATATATATATATATATATATTTACACACACACACACACACACACACACACACACACACACACACACACAC\n",
      "Invalid character found: U\n"
     ]
    }
   ],
   "source": [
    "# Main function for gene mapping and identification\n",
    "def main():\n",
    "     # Get DNA sequence input from the user\n",
    "    dna_sequence = input(\"Enter DNA sequence (A, T, C, G only): \").upper()\n",
    "    \n",
    "    # Validate DNA sequence\n",
    "    is_valid, error_msg = validate_dna_sequence(dna_sequence)\n",
    "    if not is_valid:\n",
    "        print(error_msg) # Print the error message if the DNA sequence is invalid\n",
    "        return\n",
    "    \n",
    "    # Map genes (translate DNA to protein)\n",
    "    protein_sequence = map_genes(dna_sequence)\n",
    "    \n",
    "    if not protein_sequence:\n",
    "        print(\"No protein sequence found. Check if the DNA sequence is valid and long enough.\")\n",
    "        return\n",
    "    \n",
    "    # Gene identification using breast cancer-related genes\n",
    "    breast_cancer_genes = {\n",
    "        'BRCA1': 'ATGGATTTTGGTCAGTCAACAAAGAAAGCTGAGAACTTGGACACTAGGGTCTGACTGGAAGAAATCTGGA',\n",
    "        'BRCA2': 'ATGGATTTGGAGGTTTTTGTTTGCTGCTGCTGCTGCTGAGCTTGCTGAAACTGGAAGGAAACAGG',\n",
    "        'TP53': 'ATGGAGGAGCCGCAGTCAGATCCTAGCGTCGAGCCCCTGCTCGGAACATCTCGAAGTGTTTGTGC'\n",
    "    }\n",
    "    \n",
    "    # Reverse mapping from protein sequences to gene names\n",
    "    protein_to_gene = {tuple(map_genes(v)): k for k, v in breast_cancer_genes.items()}\n",
    "    \n",
    "    gene_name = identify_gene(protein_sequence, protein_to_gene)\n",
    "    \n",
    "    # Output the gene name and protein sequence\n",
    "    print(f\"Protein Sequence: {' - '.join(protein_sequence)}\")\n",
    "    if gene_name != \"Unknown gene\":\n",
    "        print(f\"Identified Gene: {gene_name}\")\n",
    "    else:\n",
    "        print(\"No known breast cancer gene identified.\")\n",
    "\n",
    "if __name__ == \"__main__\":\n",
    "    main()\n"
   ]
  },
  {
   "cell_type": "code",
   "execution_count": null,
   "id": "70fee0cc",
   "metadata": {},
   "outputs": [],
   "source": []
  }
 ],
 "metadata": {
  "kernelspec": {
   "display_name": "Python 3 (ipykernel)",
   "language": "python",
   "name": "python3"
  },
  "language_info": {
   "codemirror_mode": {
    "name": "ipython",
    "version": 3
   },
   "file_extension": ".py",
   "mimetype": "text/x-python",
   "name": "python",
   "nbconvert_exporter": "python",
   "pygments_lexer": "ipython3",
   "version": "3.11.4"
  }
 },
 "nbformat": 4,
 "nbformat_minor": 5
}
